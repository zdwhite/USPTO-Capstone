{
 "cells": [
  {
   "cell_type": "code",
   "execution_count": 27,
   "metadata": {},
   "outputs": [],
   "source": [
    "import pandas as pd\n",
    "import numpy as np\n",
    "import re\n",
    "import os\n",
    "import time\n"
   ]
  },
  {
   "cell_type": "code",
   "execution_count": 5,
   "metadata": {},
   "outputs": [
    {
     "name": "stdout",
     "output_type": "stream",
     "text": [
      "Exploratory\\ Data\\ Analysis.ipynb  citations.csv\n",
      "Patent\\ Claims\t\t\t   office_actions.csv\n",
      "Patent\\ ICL\\ ICC.ipynb\t\t   pat_to_year.txt\n",
      "Scraper\t\t\t\t   patent_claims_fulltext.csv\n",
      "Text\\ Cleaner.ipynb\t\t   rejections.csv\n",
      "Untitled.ipynb\t\t\t   stanford_patent_data.csv\n",
      "Untitled1.ipynb\n"
     ]
    }
   ],
   "source": [
    "\n",
    "os.chdir('Patent Claims')"
   ]
  },
  {
   "cell_type": "code",
   "execution_count": 6,
   "metadata": {},
   "outputs": [
    {
     "name": "stdout",
     "output_type": "stream",
     "text": [
      "claim_2000_2014.csv  claim_2000_2014_v001.csv  desktop.ini\n"
     ]
    }
   ],
   "source": [
    "!dir"
   ]
  },
  {
   "cell_type": "code",
   "execution_count": 8,
   "metadata": {},
   "outputs": [],
   "source": [
    "df = pd.read_csv('claim_2000_2014_v001.csv')"
   ]
  },
  {
   "cell_type": "code",
   "execution_count": 14,
   "metadata": {},
   "outputs": [
    {
     "name": "stdout",
     "output_type": "stream",
     "text": [
      "347 µs ± 0 ns per loop (mean ± std. dev. of 1 run, 1 loop each)\n"
     ]
    }
   ],
   "source": [
    "\n",
    "df.head()"
   ]
  },
  {
   "cell_type": "code",
   "execution_count": 10,
   "metadata": {},
   "outputs": [
    {
     "name": "stdout",
     "output_type": "stream",
     "text": [
      "<class 'pandas.core.frame.DataFrame'>\n",
      "RangeIndex: 8216150 entries, 0 to 8216149\n",
      "Data columns (total 3 columns):\n",
      "pat_no       object\n",
      "claim_no     int64\n",
      "claim_txt    object\n",
      "dtypes: int64(1), object(2)\n",
      "memory usage: 188.1+ MB\n"
     ]
    }
   ],
   "source": [
    "df.info()"
   ]
  },
  {
   "cell_type": "code",
   "execution_count": 15,
   "metadata": {},
   "outputs": [
    {
     "name": "stdout",
     "output_type": "stream",
     "text": [
      "1.47 s ± 0 ns per loop (mean ± std. dev. of 1 run, 1 loop each)\n"
     ]
    }
   ],
   "source": [
    "\n",
    "df.isna().sum()"
   ]
  },
  {
   "cell_type": "markdown",
   "metadata": {},
   "source": [
    "Here we are going to drop rows with no claim text.\n",
    "\n",
    "We are also going to drop rows that are dependent claims and only focus on claims that are independent claims. All independent claims are marked with a 0\n"
   ]
  },
  {
   "cell_type": "code",
   "execution_count": 12,
   "metadata": {},
   "outputs": [],
   "source": [
    "df.dropna(subset=['claim_txt'],inplace=True)"
   ]
  },
  {
   "cell_type": "code",
   "execution_count": 13,
   "metadata": {
    "scrolled": true
   },
   "outputs": [
    {
     "data": {
      "text/html": [
       "<div>\n",
       "<style scoped>\n",
       "    .dataframe tbody tr th:only-of-type {\n",
       "        vertical-align: middle;\n",
       "    }\n",
       "\n",
       "    .dataframe tbody tr th {\n",
       "        vertical-align: top;\n",
       "    }\n",
       "\n",
       "    .dataframe thead th {\n",
       "        text-align: right;\n",
       "    }\n",
       "</style>\n",
       "<table border=\"1\" class=\"dataframe\">\n",
       "  <thead>\n",
       "    <tr style=\"text-align: right;\">\n",
       "      <th></th>\n",
       "      <th>pat_no</th>\n",
       "      <th>claim_no</th>\n",
       "      <th>claim_txt</th>\n",
       "    </tr>\n",
       "  </thead>\n",
       "  <tbody>\n",
       "    <tr>\n",
       "      <th>0</th>\n",
       "      <td>8697278</td>\n",
       "      <td>17</td>\n",
       "      <td>17. Battery comprising an interior of the batt...</td>\n",
       "    </tr>\n",
       "    <tr>\n",
       "      <th>1</th>\n",
       "      <td>7385756</td>\n",
       "      <td>81</td>\n",
       "      <td>81. A catadioptric projection objective for im...</td>\n",
       "    </tr>\n",
       "    <tr>\n",
       "      <th>2</th>\n",
       "      <td>7387146</td>\n",
       "      <td>1</td>\n",
       "      <td>1. A heavy duty tire comprising a tread portio...</td>\n",
       "    </tr>\n",
       "    <tr>\n",
       "      <th>3</th>\n",
       "      <td>7387253</td>\n",
       "      <td>43</td>\n",
       "      <td>43. A system comprising: (a) a optical reader ...</td>\n",
       "    </tr>\n",
       "    <tr>\n",
       "      <th>4</th>\n",
       "      <td>7387278</td>\n",
       "      <td>17</td>\n",
       "      <td>17. A parachute ripcord pin for holding a para...</td>\n",
       "    </tr>\n",
       "  </tbody>\n",
       "</table>\n",
       "</div>"
      ],
      "text/plain": [
       "    pat_no  claim_no                                          claim_txt\n",
       "0  8697278        17  17. Battery comprising an interior of the batt...\n",
       "1  7385756        81  81. A catadioptric projection objective for im...\n",
       "2  7387146         1  1. A heavy duty tire comprising a tread portio...\n",
       "3  7387253        43  43. A system comprising: (a) a optical reader ...\n",
       "4  7387278        17  17. A parachute ripcord pin for holding a para..."
      ]
     },
     "execution_count": 13,
     "metadata": {},
     "output_type": "execute_result"
    }
   ],
   "source": [
    "df.head()"
   ]
  },
  {
   "cell_type": "markdown",
   "metadata": {},
   "source": [
    "Looks like there are some text cleaning that will need to be done."
   ]
  },
  {
   "cell_type": "code",
   "execution_count": 30,
   "metadata": {},
   "outputs": [
    {
     "name": "stdout",
     "output_type": "stream",
     "text": [
      "418.2266128063202\n"
     ]
    }
   ],
   "source": [
    "start = time.time()\n",
    "df['claim_txt']= df['claim_txt'].apply(lambda x : re.sub('\\d{1,}\\.\\s',\"\",x))\n",
    "end = time.time()\n",
    "print(end - start)"
   ]
  },
  {
   "cell_type": "code",
   "execution_count": 29,
   "metadata": {},
   "outputs": [
    {
     "name": "stdout",
     "output_type": "stream",
     "text": [
      "300.4651348590851\n"
     ]
    }
   ],
   "source": [
    "\n",
    "start = time.time()\n",
    "\n",
    "df['claim_txt']= df['claim_txt'].apply(lambda x : x.lower())\n",
    "\n",
    "end = time.time()\n",
    "print(end - start)"
   ]
  },
  {
   "cell_type": "code",
   "execution_count": 31,
   "metadata": {},
   "outputs": [
    {
     "data": {
      "text/html": [
       "<div>\n",
       "<style scoped>\n",
       "    .dataframe tbody tr th:only-of-type {\n",
       "        vertical-align: middle;\n",
       "    }\n",
       "\n",
       "    .dataframe tbody tr th {\n",
       "        vertical-align: top;\n",
       "    }\n",
       "\n",
       "    .dataframe thead th {\n",
       "        text-align: right;\n",
       "    }\n",
       "</style>\n",
       "<table border=\"1\" class=\"dataframe\">\n",
       "  <thead>\n",
       "    <tr style=\"text-align: right;\">\n",
       "      <th></th>\n",
       "      <th>pat_no</th>\n",
       "      <th>claim_no</th>\n",
       "      <th>claim_txt</th>\n",
       "    </tr>\n",
       "  </thead>\n",
       "  <tbody>\n",
       "    <tr>\n",
       "      <th>0</th>\n",
       "      <td>8697278</td>\n",
       "      <td>17</td>\n",
       "      <td>battery comprising an interior of the battery ...</td>\n",
       "    </tr>\n",
       "    <tr>\n",
       "      <th>1</th>\n",
       "      <td>7385756</td>\n",
       "      <td>81</td>\n",
       "      <td>a catadioptric projection objective for imagin...</td>\n",
       "    </tr>\n",
       "    <tr>\n",
       "      <th>2</th>\n",
       "      <td>7387146</td>\n",
       "      <td>1</td>\n",
       "      <td>a heavy duty tire comprising a tread portion, ...</td>\n",
       "    </tr>\n",
       "    <tr>\n",
       "      <th>3</th>\n",
       "      <td>7387253</td>\n",
       "      <td>43</td>\n",
       "      <td>a system comprising: (a) a optical reader incl...</td>\n",
       "    </tr>\n",
       "    <tr>\n",
       "      <th>4</th>\n",
       "      <td>7387278</td>\n",
       "      <td>17</td>\n",
       "      <td>a parachute ripcord pin for holding a parachut...</td>\n",
       "    </tr>\n",
       "  </tbody>\n",
       "</table>\n",
       "</div>"
      ],
      "text/plain": [
       "    pat_no  claim_no                                          claim_txt\n",
       "0  8697278        17  battery comprising an interior of the battery ...\n",
       "1  7385756        81  a catadioptric projection objective for imagin...\n",
       "2  7387146         1  a heavy duty tire comprising a tread portion, ...\n",
       "3  7387253        43  a system comprising: (a) a optical reader incl...\n",
       "4  7387278        17  a parachute ripcord pin for holding a parachut..."
      ]
     },
     "execution_count": 31,
     "metadata": {},
     "output_type": "execute_result"
    }
   ],
   "source": [
    "df.head()"
   ]
  },
  {
   "cell_type": "code",
   "execution_count": null,
   "metadata": {},
   "outputs": [],
   "source": []
  },
  {
   "cell_type": "code",
   "execution_count": 32,
   "metadata": {},
   "outputs": [
    {
     "name": "stdout",
     "output_type": "stream",
     "text": [
      "<class 'pandas.core.frame.DataFrame'>\n",
      "Int64Index: 8216031 entries, 0 to 8216149\n",
      "Data columns (total 3 columns):\n",
      "pat_no       object\n",
      "claim_no     int64\n",
      "claim_txt    object\n",
      "dtypes: int64(1), object(2)\n",
      "memory usage: 250.7+ MB\n"
     ]
    }
   ],
   "source": [
    "df.info()"
   ]
  },
  {
   "cell_type": "markdown",
   "metadata": {},
   "source": [
    "Now it's time to determine the ICC or independant claim count( this simply counts the number of independant claims per patent\n",
    "\n",
    "Next will be the (ICL) or the claim length for the shortest independent claim"
   ]
  },
  {
   "cell_type": "code",
   "execution_count": 35,
   "metadata": {},
   "outputs": [],
   "source": [
    "#import spacy\n",
    "#import gensim\n",
    "import lexnlp\n",
    "\n",
    "\n",
    "#nlp = spacy.load('en_core_web_lg')"
   ]
  },
  {
   "cell_type": "code",
   "execution_count": 52,
   "metadata": {},
   "outputs": [
    {
     "name": "stdout",
     "output_type": "stream",
     "text": [
      "/home/zdwhite/anaconda3/envs/py36/lib/python3.6/site-packages/lexnlp/nlp/en/__init__.py\n"
     ]
    }
   ],
   "source": [
    "print(lexnlp.nlp.en.__file__)"
   ]
  },
  {
   "cell_type": "code",
   "execution_count": 29,
   "metadata": {},
   "outputs": [],
   "source": [
    "## Cleaning text in claims.\n",
    "## This function is deprecated as i'm not using NLP to tokenize each claim.\n",
    "## This tokenization would take forever\n",
    "def txt_clean(claim):\n",
    "    sent=[]\n",
    "    for token in nlp(claim):\n",
    "        if (token.is_stop == False) and (token.pos_!='PUNCT'):\n",
    "            sent.append(token.text)\n",
    "    sent = \"\".join(sent)\n",
    "    return sent\n",
    "        "
   ]
  },
  {
   "cell_type": "code",
   "execution_count": 62,
   "metadata": {},
   "outputs": [],
   "source": [
    "## This is a list of stop words that is taken from the \"lexNLP package\"\n",
    "## I saved their list locally as their module was having a tonne of issues this will save you a major headache\n",
    "legal_STOP = list(pd.read_csv('stopwords.csv')['0'])"
   ]
  },
  {
   "cell_type": "code",
   "execution_count": 64,
   "metadata": {},
   "outputs": [
    {
     "name": "stdout",
     "output_type": "stream",
     "text": [
      "2444.904415369034\n"
     ]
    }
   ],
   "source": [
    "# Remove stop words\n",
    "start = time.time()\n",
    "df['claim_txt'] = [\" \".join([word for word in document.lower().split() if word not in legal_STOP])\n",
    "       for document in df['claim_txt']]\n",
    "end = time.time()\n",
    "print(end - start)"
   ]
  },
  {
   "cell_type": "code",
   "execution_count": 67,
   "metadata": {},
   "outputs": [
    {
     "name": "stdout",
     "output_type": "stream",
     "text": [
      "39.00309872627258\n"
     ]
    }
   ],
   "source": [
    "## Calculate and append claim length\n",
    "start = time.time()\n",
    "\n",
    "df['ICL'] = [len(claim.split()) for claim in df['claim_txt']]\n",
    "\n",
    "end = time.time()\n",
    "print(end - start)"
   ]
  },
  {
   "cell_type": "code",
   "execution_count": 69,
   "metadata": {},
   "outputs": [
    {
     "name": "stdout",
     "output_type": "stream",
     "text": [
      "25.110410690307617\n"
     ]
    }
   ],
   "source": [
    "## Calculate and append number of independent claims\n",
    "start = time.time()\n",
    "ICC = df.groupby(by=\"pat_no\").count().reset_index().loc[:,['pat_no','ICL']]\n",
    "ICC.columns=['pat_no', 'ICC']\n",
    "\n",
    "df = pd.merge(df,ICC,how='outer',on='pat_no')\n",
    "\n",
    "end = time.time()\n",
    "print(end - start)"
   ]
  },
  {
   "cell_type": "code",
   "execution_count": 70,
   "metadata": {},
   "outputs": [
    {
     "data": {
      "text/html": [
       "<div>\n",
       "<style scoped>\n",
       "    .dataframe tbody tr th:only-of-type {\n",
       "        vertical-align: middle;\n",
       "    }\n",
       "\n",
       "    .dataframe tbody tr th {\n",
       "        vertical-align: top;\n",
       "    }\n",
       "\n",
       "    .dataframe thead th {\n",
       "        text-align: right;\n",
       "    }\n",
       "</style>\n",
       "<table border=\"1\" class=\"dataframe\">\n",
       "  <thead>\n",
       "    <tr style=\"text-align: right;\">\n",
       "      <th></th>\n",
       "      <th>pat_no</th>\n",
       "      <th>claim_no</th>\n",
       "      <th>claim_txt</th>\n",
       "      <th>ICL</th>\n",
       "      <th>ICC</th>\n",
       "    </tr>\n",
       "  </thead>\n",
       "  <tbody>\n",
       "    <tr>\n",
       "      <th>0</th>\n",
       "      <td>8697278</td>\n",
       "      <td>17</td>\n",
       "      <td>battery comprising interior battery active ele...</td>\n",
       "      <td>106</td>\n",
       "      <td>2</td>\n",
       "    </tr>\n",
       "    <tr>\n",
       "      <th>1</th>\n",
       "      <td>8697278</td>\n",
       "      <td>1</td>\n",
       "      <td>battery cell casing comprising first casing el...</td>\n",
       "      <td>97</td>\n",
       "      <td>2</td>\n",
       "    </tr>\n",
       "    <tr>\n",
       "      <th>2</th>\n",
       "      <td>7385756</td>\n",
       "      <td>81</td>\n",
       "      <td>catadioptric projection objective imaging patt...</td>\n",
       "      <td>108</td>\n",
       "      <td>33</td>\n",
       "    </tr>\n",
       "    <tr>\n",
       "      <th>3</th>\n",
       "      <td>7385756</td>\n",
       "      <td>94</td>\n",
       "      <td>catadioptric projection objective imaging patt...</td>\n",
       "      <td>116</td>\n",
       "      <td>33</td>\n",
       "    </tr>\n",
       "    <tr>\n",
       "      <th>4</th>\n",
       "      <td>7385756</td>\n",
       "      <td>79</td>\n",
       "      <td>catadioptric projection objective imaging patt...</td>\n",
       "      <td>103</td>\n",
       "      <td>33</td>\n",
       "    </tr>\n",
       "  </tbody>\n",
       "</table>\n",
       "</div>"
      ],
      "text/plain": [
       "    pat_no  claim_no                                          claim_txt  ICL  \\\n",
       "0  8697278        17  battery comprising interior battery active ele...  106   \n",
       "1  8697278         1  battery cell casing comprising first casing el...   97   \n",
       "2  7385756        81  catadioptric projection objective imaging patt...  108   \n",
       "3  7385756        94  catadioptric projection objective imaging patt...  116   \n",
       "4  7385756        79  catadioptric projection objective imaging patt...  103   \n",
       "\n",
       "   ICC  \n",
       "0    2  \n",
       "1    2  \n",
       "2   33  \n",
       "3   33  \n",
       "4   33  "
      ]
     },
     "execution_count": 70,
     "metadata": {},
     "output_type": "execute_result"
    }
   ],
   "source": [
    "df.head()"
   ]
  },
  {
   "cell_type": "code",
   "execution_count": 119,
   "metadata": {},
   "outputs": [],
   "source": [
    "# I was able to download a complete dataset from the stanford law school I had to clean that dataset\n",
    "\n",
    "## read in all patent numbers that have been associated with a court case since 2000\n",
    "df_spl=pd.read_csv('spl_final.csv')\n",
    "# clean the list\n",
    "pat_spl = []\n",
    "df_spl['patents']=df_spl['patents'].astype(str)\n",
    "for row in df_spl['patents']:\n",
    "    pat_spl.extend(row.split(';'))\n",
    "    \n",
    "pat_spl = list(set(pat_spl))\n",
    "\n",
    "# clean the pat numbers\n",
    "pat_spl= [re.sub('\\s',\"\",x) for x in pat_spl]\n",
    "pat_spl = pd.DataFrame(pat_spl,columns=['pat_no'])\n",
    "# setting the dependent variable\n",
    "pat_spl['litigation']=1"
   ]
  },
  {
   "cell_type": "code",
   "execution_count": 253,
   "metadata": {},
   "outputs": [
    {
     "name": "stdout",
     "output_type": "stream",
     "text": [
      "16.859753608703613\n"
     ]
    }
   ],
   "source": [
    "# Merge litigated patents as our dependent variable\n",
    "# drop patents not in our larger dataset\n",
    "start = time.time()\n",
    "df = pd.merge(df,pat_spl,how='outer',on='pat_no')\n",
    "df['litigation'].fillna(0,inplace=True)\n",
    "df.dropna(axis=0,inplace=True)\n",
    "end = time.time()\n",
    "print(end - start)"
   ]
  },
  {
   "cell_type": "code",
   "execution_count": 254,
   "metadata": {},
   "outputs": [
    {
     "data": {
      "text/plain": [
       "0.0    0.985667\n",
       "1.0    0.014333\n",
       "Name: litigation, dtype: float64"
      ]
     },
     "execution_count": 254,
     "metadata": {},
     "output_type": "execute_result"
    }
   ],
   "source": [
    "# How imbalanced is our dataset at this point\n",
    "# HOLY MOLY ~1.4% of all patents issued between 2000 and 2014 were in a litigation case\n",
    "# just over a 1 in 100 chance of litigation \n",
    "df['litigation'].value_counts(normalize=True)"
   ]
  },
  {
   "cell_type": "code",
   "execution_count": 255,
   "metadata": {},
   "outputs": [
    {
     "data": {
      "text/html": [
       "<div>\n",
       "<style scoped>\n",
       "    .dataframe tbody tr th:only-of-type {\n",
       "        vertical-align: middle;\n",
       "    }\n",
       "\n",
       "    .dataframe tbody tr th {\n",
       "        vertical-align: top;\n",
       "    }\n",
       "\n",
       "    .dataframe thead th {\n",
       "        text-align: right;\n",
       "    }\n",
       "</style>\n",
       "<table border=\"1\" class=\"dataframe\">\n",
       "  <thead>\n",
       "    <tr style=\"text-align: right;\">\n",
       "      <th></th>\n",
       "      <th>pat_no</th>\n",
       "      <th>claim_no</th>\n",
       "      <th>claim_txt</th>\n",
       "      <th>ICL</th>\n",
       "      <th>ICC</th>\n",
       "      <th>litigation</th>\n",
       "    </tr>\n",
       "  </thead>\n",
       "  <tbody>\n",
       "    <tr>\n",
       "      <th>0</th>\n",
       "      <td>8697278</td>\n",
       "      <td>17.0</td>\n",
       "      <td>battery comprising interior battery active ele...</td>\n",
       "      <td>106.0</td>\n",
       "      <td>2.0</td>\n",
       "      <td>0.0</td>\n",
       "    </tr>\n",
       "    <tr>\n",
       "      <th>1</th>\n",
       "      <td>8697278</td>\n",
       "      <td>1.0</td>\n",
       "      <td>battery cell casing comprising first casing el...</td>\n",
       "      <td>97.0</td>\n",
       "      <td>2.0</td>\n",
       "      <td>0.0</td>\n",
       "    </tr>\n",
       "    <tr>\n",
       "      <th>2</th>\n",
       "      <td>7385756</td>\n",
       "      <td>81.0</td>\n",
       "      <td>catadioptric projection objective imaging patt...</td>\n",
       "      <td>108.0</td>\n",
       "      <td>33.0</td>\n",
       "      <td>0.0</td>\n",
       "    </tr>\n",
       "    <tr>\n",
       "      <th>3</th>\n",
       "      <td>7385756</td>\n",
       "      <td>94.0</td>\n",
       "      <td>catadioptric projection objective imaging patt...</td>\n",
       "      <td>116.0</td>\n",
       "      <td>33.0</td>\n",
       "      <td>0.0</td>\n",
       "    </tr>\n",
       "    <tr>\n",
       "      <th>4</th>\n",
       "      <td>7385756</td>\n",
       "      <td>79.0</td>\n",
       "      <td>catadioptric projection objective imaging patt...</td>\n",
       "      <td>103.0</td>\n",
       "      <td>33.0</td>\n",
       "      <td>0.0</td>\n",
       "    </tr>\n",
       "  </tbody>\n",
       "</table>\n",
       "</div>"
      ],
      "text/plain": [
       "    pat_no  claim_no                                          claim_txt  \\\n",
       "0  8697278      17.0  battery comprising interior battery active ele...   \n",
       "1  8697278       1.0  battery cell casing comprising first casing el...   \n",
       "2  7385756      81.0  catadioptric projection objective imaging patt...   \n",
       "3  7385756      94.0  catadioptric projection objective imaging patt...   \n",
       "4  7385756      79.0  catadioptric projection objective imaging patt...   \n",
       "\n",
       "     ICL   ICC  litigation  \n",
       "0  106.0   2.0         0.0  \n",
       "1   97.0   2.0         0.0  \n",
       "2  108.0  33.0         0.0  \n",
       "3  116.0  33.0         0.0  \n",
       "4  103.0  33.0         0.0  "
      ]
     },
     "execution_count": 255,
     "metadata": {},
     "output_type": "execute_result"
    }
   ],
   "source": [
    "df.head()"
   ]
  },
  {
   "cell_type": "code",
   "execution_count": 257,
   "metadata": {},
   "outputs": [],
   "source": [
    "# Compress data types pat number has strings embded in some numbers so can't be casted to str\n",
    "df['claim_no']=df['claim_no'].astype('int')\n",
    "df['ICL']=df['ICL'].astype('int')\n",
    "df['ICC']=df['ICC'].astype('int')\n",
    "df['litigation']=df['litigation'].astype('int')"
   ]
  },
  {
   "cell_type": "code",
   "execution_count": 258,
   "metadata": {},
   "outputs": [
    {
     "name": "stdout",
     "output_type": "stream",
     "text": [
      "137.33904910087585\n"
     ]
    }
   ],
   "source": [
    "# Save the final datset to be modeled\n",
    "start = time.time()\n",
    "df.to_csv('claim_2000_2014_cleaned.csv',index=False)\n",
    "end = time.time()\n",
    "print(end - start)"
   ]
  },
  {
   "cell_type": "code",
   "execution_count": 202,
   "metadata": {},
   "outputs": [],
   "source": [
    "# This encodes the year that a patent was issued relative to it's patent number\n",
    "## Possible future work to append the year of the patents issue with the year the patent is litigated\n",
    "\n",
    "pat_no_year = pd.read_csv('pat_to_year.txt')"
   ]
  },
  {
   "cell_type": "code",
   "execution_count": 203,
   "metadata": {},
   "outputs": [
    {
     "data": {
      "text/html": [
       "<div>\n",
       "<style scoped>\n",
       "    .dataframe tbody tr th:only-of-type {\n",
       "        vertical-align: middle;\n",
       "    }\n",
       "\n",
       "    .dataframe tbody tr th {\n",
       "        vertical-align: top;\n",
       "    }\n",
       "\n",
       "    .dataframe thead th {\n",
       "        text-align: right;\n",
       "    }\n",
       "</style>\n",
       "<table border=\"1\" class=\"dataframe\">\n",
       "  <thead>\n",
       "    <tr style=\"text-align: right;\">\n",
       "      <th></th>\n",
       "      <th>Issue_Year</th>\n",
       "      <th>First_Utility</th>\n",
       "      <th>First_Design</th>\n",
       "      <th>First_Plant</th>\n",
       "      <th>First_Reissue</th>\n",
       "      <th>First_Statutory_Invention_Registration</th>\n",
       "    </tr>\n",
       "  </thead>\n",
       "  <tbody>\n",
       "    <tr>\n",
       "      <th>21</th>\n",
       "      <td>1997</td>\n",
       "      <td>5590420</td>\n",
       "      <td>D377107</td>\n",
       "      <td>PP09776</td>\n",
       "      <td>RE35418</td>\n",
       "      <td>H001623</td>\n",
       "    </tr>\n",
       "    <tr>\n",
       "      <th>22</th>\n",
       "      <td>1998</td>\n",
       "      <td>5704062</td>\n",
       "      <td>D388585</td>\n",
       "      <td>PP10172</td>\n",
       "      <td>RE35708</td>\n",
       "      <td>H001701</td>\n",
       "    </tr>\n",
       "    <tr>\n",
       "      <th>23</th>\n",
       "      <td>1999</td>\n",
       "      <td>5855021</td>\n",
       "      <td>D403485</td>\n",
       "      <td>PP10743</td>\n",
       "      <td>RE36021</td>\n",
       "      <td>H001766</td>\n",
       "    </tr>\n",
       "    <tr>\n",
       "      <th>24</th>\n",
       "      <td>2000</td>\n",
       "      <td>6009555</td>\n",
       "      <td>D418273</td>\n",
       "      <td>PP11169</td>\n",
       "      <td>RE36479</td>\n",
       "      <td>H001826</td>\n",
       "    </tr>\n",
       "    <tr>\n",
       "      <th>25</th>\n",
       "      <td>2001</td>\n",
       "      <td>6167569</td>\n",
       "      <td>D435713</td>\n",
       "      <td>PP11728</td>\n",
       "      <td>RE37006</td>\n",
       "      <td>H001930</td>\n",
       "    </tr>\n",
       "    <tr>\n",
       "      <th>26</th>\n",
       "      <td>2002</td>\n",
       "      <td>6334220</td>\n",
       "      <td>D452599</td>\n",
       "      <td>PP12314</td>\n",
       "      <td>RE37489</td>\n",
       "      <td>H002008</td>\n",
       "    </tr>\n",
       "    <tr>\n",
       "      <th>27</th>\n",
       "      <td>2003</td>\n",
       "      <td>6502244</td>\n",
       "      <td>D468073</td>\n",
       "      <td>PP13447</td>\n",
       "      <td>RE37954</td>\n",
       "      <td>H002057</td>\n",
       "    </tr>\n",
       "    <tr>\n",
       "      <th>28</th>\n",
       "      <td>2004</td>\n",
       "      <td>6671884</td>\n",
       "      <td>D484671</td>\n",
       "      <td>PP14441</td>\n",
       "      <td>RE38377</td>\n",
       "      <td>H002093</td>\n",
       "    </tr>\n",
       "    <tr>\n",
       "      <th>29</th>\n",
       "      <td>2005</td>\n",
       "      <td>6836899</td>\n",
       "      <td>D500396</td>\n",
       "      <td>PP15460</td>\n",
       "      <td>RE38680</td>\n",
       "      <td>H002113</td>\n",
       "    </tr>\n",
       "    <tr>\n",
       "      <th>30</th>\n",
       "      <td>2006</td>\n",
       "      <td>6981282</td>\n",
       "      <td>D513356</td>\n",
       "      <td>PP16176</td>\n",
       "      <td>RE38928</td>\n",
       "      <td>H002137</td>\n",
       "    </tr>\n",
       "    <tr>\n",
       "      <th>31</th>\n",
       "      <td>2007</td>\n",
       "      <td>7155746</td>\n",
       "      <td>D534331</td>\n",
       "      <td>PP17326</td>\n",
       "      <td>RE39452</td>\n",
       "      <td>H002177</td>\n",
       "    </tr>\n",
       "    <tr>\n",
       "      <th>32</th>\n",
       "      <td>2008</td>\n",
       "      <td>7313829</td>\n",
       "      <td>D558426</td>\n",
       "      <td>PP18373</td>\n",
       "      <td>RE39964</td>\n",
       "      <td>H002208</td>\n",
       "    </tr>\n",
       "    <tr>\n",
       "      <th>33</th>\n",
       "      <td>2009</td>\n",
       "      <td>7472428</td>\n",
       "      <td>D584026</td>\n",
       "      <td>PP19613</td>\n",
       "      <td>RE40613</td>\n",
       "      <td>H002228</td>\n",
       "    </tr>\n",
       "    <tr>\n",
       "      <th>34</th>\n",
       "      <td>2010</td>\n",
       "      <td>7640598</td>\n",
       "      <td>D607176</td>\n",
       "      <td>PP20622</td>\n",
       "      <td>RE41067</td>\n",
       "      <td>H002234</td>\n",
       "    </tr>\n",
       "    <tr>\n",
       "      <th>35</th>\n",
       "      <td>2011</td>\n",
       "      <td>7861317</td>\n",
       "      <td>D629996</td>\n",
       "      <td>PP21604</td>\n",
       "      <td>RE42020</td>\n",
       "      <td>H002251</td>\n",
       "    </tr>\n",
       "    <tr>\n",
       "      <th>36</th>\n",
       "      <td>2012</td>\n",
       "      <td>8087094</td>\n",
       "      <td>D651376</td>\n",
       "      <td>PP22428</td>\n",
       "      <td>RE43053</td>\n",
       "      <td>H002266</td>\n",
       "    </tr>\n",
       "    <tr>\n",
       "      <th>37</th>\n",
       "      <td>2013</td>\n",
       "      <td>8341762</td>\n",
       "      <td>D673346</td>\n",
       "      <td>PP23288</td>\n",
       "      <td>RE43884</td>\n",
       "      <td>H002274</td>\n",
       "    </tr>\n",
       "    <tr>\n",
       "      <th>38</th>\n",
       "      <td>2014</td>\n",
       "      <td>8621662</td>\n",
       "      <td>D696836</td>\n",
       "      <td>PP24135</td>\n",
       "      <td>RE44689</td>\n",
       "      <td>H002288</td>\n",
       "    </tr>\n",
       "    <tr>\n",
       "      <th>39</th>\n",
       "      <td>2015</td>\n",
       "      <td>8925112</td>\n",
       "      <td>D720516</td>\n",
       "      <td>PP25207</td>\n",
       "      <td>RE45317</td>\n",
       "      <td>NaN</td>\n",
       "    </tr>\n",
       "    <tr>\n",
       "      <th>40</th>\n",
       "      <td>2016</td>\n",
       "      <td>9226437</td>\n",
       "      <td>D746541</td>\n",
       "      <td>PP26285</td>\n",
       "      <td>RE45832</td>\n",
       "      <td>NaN</td>\n",
       "    </tr>\n",
       "  </tbody>\n",
       "</table>\n",
       "</div>"
      ],
      "text/plain": [
       "    Issue_Year  First_Utility First_Design First_Plant First_Reissue  \\\n",
       "21        1997        5590420      D377107     PP09776       RE35418   \n",
       "22        1998        5704062      D388585     PP10172       RE35708   \n",
       "23        1999        5855021      D403485     PP10743       RE36021   \n",
       "24        2000        6009555      D418273     PP11169       RE36479   \n",
       "25        2001        6167569      D435713     PP11728       RE37006   \n",
       "26        2002        6334220      D452599     PP12314       RE37489   \n",
       "27        2003        6502244      D468073     PP13447       RE37954   \n",
       "28        2004        6671884      D484671     PP14441       RE38377   \n",
       "29        2005        6836899      D500396     PP15460       RE38680   \n",
       "30        2006        6981282      D513356     PP16176       RE38928   \n",
       "31        2007        7155746      D534331     PP17326       RE39452   \n",
       "32        2008        7313829      D558426     PP18373       RE39964   \n",
       "33        2009        7472428      D584026     PP19613       RE40613   \n",
       "34        2010        7640598      D607176     PP20622       RE41067   \n",
       "35        2011        7861317      D629996     PP21604       RE42020   \n",
       "36        2012        8087094      D651376     PP22428       RE43053   \n",
       "37        2013        8341762      D673346     PP23288       RE43884   \n",
       "38        2014        8621662      D696836     PP24135       RE44689   \n",
       "39        2015        8925112      D720516     PP25207       RE45317   \n",
       "40        2016        9226437      D746541     PP26285       RE45832   \n",
       "\n",
       "   First_Statutory_Invention_Registration  \n",
       "21                                H001623  \n",
       "22                                H001701  \n",
       "23                                H001766  \n",
       "24                                H001826  \n",
       "25                                H001930  \n",
       "26                                H002008  \n",
       "27                                H002057  \n",
       "28                                H002093  \n",
       "29                                H002113  \n",
       "30                                H002137  \n",
       "31                                H002177  \n",
       "32                                H002208  \n",
       "33                                H002228  \n",
       "34                                H002234  \n",
       "35                                H002251  \n",
       "36                                H002266  \n",
       "37                                H002274  \n",
       "38                                H002288  \n",
       "39                                    NaN  \n",
       "40                                    NaN  "
      ]
     },
     "execution_count": 203,
     "metadata": {},
     "output_type": "execute_result"
    }
   ],
   "source": [
    "pat_no_year.tail(20)"
   ]
  }
 ],
 "metadata": {
  "kernelspec": {
   "display_name": "Python 3",
   "language": "python",
   "name": "python3"
  },
  "language_info": {
   "codemirror_mode": {
    "name": "ipython",
    "version": 3
   },
   "file_extension": ".py",
   "mimetype": "text/x-python",
   "name": "python",
   "nbconvert_exporter": "python",
   "pygments_lexer": "ipython3",
   "version": "3.7.2"
  },
  "toc": {
   "base_numbering": 1,
   "nav_menu": {},
   "number_sections": true,
   "sideBar": true,
   "skip_h1_title": false,
   "title_cell": "Table of Contents",
   "title_sidebar": "Contents",
   "toc_cell": false,
   "toc_position": {},
   "toc_section_display": true,
   "toc_window_display": false
  }
 },
 "nbformat": 4,
 "nbformat_minor": 2
}
